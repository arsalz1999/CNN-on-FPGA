{
  "nbformat": 4,
  "nbformat_minor": 0,
  "metadata": {
    "colab": {
      "name": "QuickDraw Keras Training (refined version for GitHub).ipynb",
      "provenance": [],
      "collapsed_sections": [],
      "toc_visible": true
    },
    "kernelspec": {
      "name": "python3",
      "display_name": "Python 3"
    },
    "accelerator": "GPU"
  },
  "cells": [
    {
      "cell_type": "markdown",
      "metadata": {
        "id": "naxFa0gpQ2pd",
        "colab_type": "text"
      },
      "source": [
        "https://github.com/subarnop/Kiddo"
      ]
    },
    {
      "cell_type": "markdown",
      "metadata": {
        "id": "b1milNVFm2PT",
        "colab_type": "text"
      },
      "source": [
        "Note: must use Tensorflow backend for Keras (this code doesn't work with Theano)"
      ]
    },
    {
      "cell_type": "markdown",
      "metadata": {
        "id": "X47zytfdj5HV",
        "colab_type": "text"
      },
      "source": [
        "## Initialization"
      ]
    },
    {
      "cell_type": "code",
      "metadata": {
        "id": "LJ31DkomXH2M",
        "colab_type": "code",
        "outputId": "12e8affe-76cf-48be-89fb-779cb7f8c2e7",
        "colab": {
          "base_uri": "https://localhost:8080/",
          "height": 86
        }
      },
      "source": [
        "!git clone https://github.com/subarnop/Kiddo.git"
      ],
      "execution_count": 0,
      "outputs": [
        {
          "output_type": "stream",
          "text": [
            "Cloning into 'Kiddo'...\n",
            "remote: Enumerating objects: 67, done.\u001b[K\n",
            "remote: Total 67 (delta 0), reused 0 (delta 0), pack-reused 67\u001b[K\n",
            "Unpacking objects: 100% (67/67), done.\n"
          ],
          "name": "stdout"
        }
      ]
    },
    {
      "cell_type": "code",
      "metadata": {
        "id": "hvWosk5_g5vb",
        "colab_type": "code",
        "colab": {}
      },
      "source": [
        "classes = ['brain', 'bicycle', 'airplane', 'cat', 'car', 'bird', 'apple', 'bathtub', 'watermelon', 'penguin', 'violin', 'dolphin', 'speedboat', 'cell phone', 'wristwatch', 'peas', 'television', 'skyscraper', 'shoe', 'flower']\n",
        "# classes = ['brain', 'bicycle', 'cat', 'car', 'bird', 'apple', 'watermelon', 'penguin', 'violin', 'dolphin', 'cell phone', 'wristwatch', 'television', 'skyscraper', 'flower']"
      ],
      "execution_count": 0,
      "outputs": []
    },
    {
      "cell_type": "code",
      "metadata": {
        "id": "PNTbNJ8qXLXT",
        "colab_type": "code",
        "outputId": "7afbc84d-39b7-4f17-ded2-9767ae240d20",
        "colab": {
          "base_uri": "https://localhost:8080/",
          "height": 34
        }
      },
      "source": [
        "%cd /content/Kiddo\n",
        "!mkdir data\n",
        "for className in classes:\n",
        "  !gsutil -q cp \"gs://quickdraw_dataset/full/numpy_bitmap/{className}.npy\" data/"
      ],
      "execution_count": 0,
      "outputs": [
        {
          "output_type": "stream",
          "text": [
            "/content/Kiddo\n"
          ],
          "name": "stdout"
        }
      ]
    },
    {
      "cell_type": "markdown",
      "metadata": {
        "id": "Lnnmyiv4j7Po",
        "colab_type": "text"
      },
      "source": [
        "## Training"
      ]
    },
    {
      "cell_type": "code",
      "metadata": {
        "id": "9l-jCtjcj3ls",
        "colab_type": "code",
        "outputId": "28a90aa8-9418-461d-d476-72d4631b2464",
        "colab": {
          "base_uri": "https://localhost:8080/",
          "height": 34
        }
      },
      "source": [
        "from keras.models import Sequential\n",
        "from keras.layers import Dense, Dropout, Flatten\n",
        "from keras.layers import Convolution2D, SeparableConv2D, MaxPooling2D\n",
        "\n",
        "# Regular convolution\n",
        "def load_model(input_shape, num_classes, dropout_1_rate=0.25, dropout_2_rate=0.25, dropout_3_rate=0.5):\n",
        "    model = Sequential()\n",
        "\n",
        "    model.add(Convolution2D(6, kernel_size=(3, 3), activation='relu', input_shape=input_shape, padding=\"same\"))\n",
        "    model.add(Convolution2D(24, kernel_size=(3, 3), activation='relu'))\n",
        "    model.add(Convolution2D(12, kernel_size=(1, 1), activation='relu'))\n",
        "    model.add(MaxPooling2D(pool_size=(2, 2)))\n",
        "    model.add(Dropout(dropout_1_rate))\n",
        "\n",
        "    model.add(Convolution2D(28, kernel_size=(3, 3), padding='same', activation='relu'))\n",
        "    model.add(MaxPooling2D(pool_size=(2, 2))) # added\n",
        "    model.add(Convolution2D(24, kernel_size=(1, 1), activation='relu'))\n",
        "    model.add(MaxPooling2D(pool_size=(2, 2)))\n",
        "    model.add(Dropout(dropout_2_rate))\n",
        "\n",
        "    model.add(Flatten())\n",
        "    model.add(Dense(100, activation='relu'))\n",
        "    model.add(Dropout(dropout_3_rate))\n",
        "    model.add(Dense(num_classes, activation='softmax', name=\"my_output_node\"))\n",
        "\n",
        "    return model\n"
      ],
      "execution_count": 0,
      "outputs": [
        {
          "output_type": "stream",
          "text": [
            "Using TensorFlow backend.\n"
          ],
          "name": "stderr"
        }
      ]
    },
    {
      "cell_type": "code",
      "metadata": {
        "id": "D_2Mtgk1dkAZ",
        "colab_type": "code",
        "colab": {}
      },
      "source": [
        "import os\n",
        "import keras\n",
        "from keras.callbacks import ModelCheckpoint\n",
        "from keras import backend as K\n",
        "from load_data import *\n",
        "import config\n",
        "\n",
        "def train_model(dropout_1_rate=0.25, dropout_2_rate=0.25, dropout_3_rate=0.5, lr=1e-3, beta_1=0.9, beta_2=0.999, decay=0.00):\n",
        "  C = config.Config()\n",
        "\n",
        "  # epochs      = C.epochs\n",
        "  epochs = 60\n",
        "#   batch_size  = C.batch_size\n",
        "  batch_size = 128\n",
        "  image_size  = C.image_size\n",
        "\n",
        "  x_train, y_train, x_test, y_test, class_names = load_data('data')\n",
        "  num_classes = len(class_names)\n",
        "\n",
        "  # Reshape and normalize\n",
        "  x_train = x_train.reshape(x_train.shape[0], image_size, image_size, 1).astype('float32')\n",
        "  x_test = x_test.reshape(x_test.shape[0], image_size, image_size, 1).astype('float32')\n",
        "  input_shape = (image_size, image_size, 1)\n",
        "\n",
        "  x_train /= 255.0\n",
        "  x_test /= 255.0\n",
        "\n",
        "  print('Training data: ', x_train.shape)\n",
        "  print('Training labels: ', y_train.shape)\n",
        "  print('Test data: ', x_test.shape)\n",
        "  print('Test labels: ', y_test.shape)\n",
        "  print('Class names:', class_names)\n",
        "\n",
        "  # Not working?\n",
        "  # plt.figure(figsize=(10, 10))\n",
        "  # visualize(x_train, y_train, class_names)\n",
        "\n",
        "  # Convert class vectors to binary class matrices\n",
        "  y_train = keras.utils.to_categorical(y_train, num_classes)\n",
        "  y_test = keras.utils.to_categorical(y_test, num_classes)\n",
        "\n",
        "  # Load model\n",
        "  model = load_model(input_shape, num_classes, dropout_1_rate, dropout_2_rate, dropout_3_rate)\n",
        "  \n",
        "  optimizer = keras.optimizers.Adam(lr, beta_1, beta_2, decay)\n",
        "  model.compile(loss='categorical_crossentropy', optimizer=optimizer, metrics=['accuracy'])\n",
        "  print(model.summary())\n",
        "\n",
        "  save_filename   = C.save_filename\n",
        "  callback_period = C.callback_period\n",
        "#   verbosity       = C.verbosity\n",
        "  verbosity = 1\n",
        "\n",
        "  if not os.path.exists(save_filename):\n",
        "    # Model checkpoint callback\n",
        "    checkpoint = ModelCheckpoint(\n",
        "      save_filename,\n",
        "      monitor='val_acc',\n",
        "      verbose=verbosity,\n",
        "      save_best_only=True,\n",
        "      save_weights_only=False,\n",
        "      mode='auto',\n",
        "      period=callback_period)\n",
        "        \n",
        "    tbCallBack = keras.callbacks.TensorBoard(log_dir='./tensorboard', histogram_freq=0, write_images=True)\n",
        "\n",
        "    # Fit the model\n",
        "    history = model.fit(\n",
        "      x_train, y_train,\n",
        "      epochs=epochs, batch_size=batch_size, verbose=verbosity,\n",
        "      validation_data=(x_test, y_test),\n",
        "      callbacks=[\n",
        "          checkpoint,\n",
        "          tbCallBack\n",
        "      ])\n",
        "\n",
        "    # List all data in history\n",
        "    print(history.history.keys())\n",
        "\n",
        "    # Plot history for accuracy\n",
        "    plt.plot(history.history['acc'])\n",
        "    plt.plot(history.history['val_acc'])\n",
        "    plt.title('model accuracy')\n",
        "    plt.ylabel('accuracy')\n",
        "    plt.xlabel('epoch')\n",
        "    plt.legend(['train', 'test'], loc='upper left')\n",
        "    plt.savefig('img/acc.png')\n",
        "    plt.clf()\n",
        "\n",
        "    # Plot history for loss\n",
        "    plt.plot(history.history['loss'])\n",
        "    plt.plot(history.history['val_loss'])\n",
        "    plt.title('model loss')\n",
        "    plt.ylabel('loss')\n",
        "    plt.xlabel('epoch')\n",
        "    plt.legend(['train', 'test'], loc='upper left')\n",
        "    plt.savefig('img/loss.png')\n",
        "  else:\n",
        "    # Load previously saved weights and evaluate the model\n",
        "    model.load_weights(save_filename)\n",
        "    score, acc = model.evaluate(x_test, y_test, verbose=0)\n",
        "    print('Test score:', score)\n",
        "    print('Test accuracy:', acc)\n",
        "    \n",
        "  global global_model\n",
        "  global_model = model\n",
        "    \n",
        "  score, acc = model.evaluate(x_test, y_test, verbose=0)\n",
        "  return acc\n",
        "    \n",
        "# from functools import partial\n",
        "# train_model_partial = partial(train_model)"
      ],
      "execution_count": 0,
      "outputs": []
    },
    {
      "cell_type": "code",
      "metadata": {
        "id": "oHQ0UnkETfdV",
        "colab_type": "code",
        "outputId": "cdb4e74e-aeb3-475e-89fd-c3227e0f9074",
        "colab": {
          "base_uri": "https://localhost:8080/",
          "height": 1000
        }
      },
      "source": [
        "train_model(dropout_1_rate=0.15, dropout_2_rate=0.15, dropout_3_rate=0.15, lr=0.007, beta_1=0.9, beta_2=0.9972, decay=0.03821)"
      ],
      "execution_count": 0,
      "outputs": [
        {
          "output_type": "stream",
          "text": [
            "Training data:  (160000, 28, 28)\n",
            "Training labels:  (160000,)\n",
            "Test data:  (40000, 28, 28)\n",
            "Test labels:  (40000,)\n",
            "Class names: ['cat', 'brain', 'wristwatch', 'television', 'violin', 'bathtub', 'peas', 'dolphin', 'bicycle', 'skyscraper', 'watermelon', 'flower', 'speedboat', 'cell phone', 'apple', 'airplane', 'bird', 'shoe', 'penguin', 'car']\n",
            "WARNING:tensorflow:From /usr/local/lib/python3.6/dist-packages/keras/backend/tensorflow_backend.py:66: The name tf.get_default_graph is deprecated. Please use tf.compat.v1.get_default_graph instead.\n",
            "\n",
            "WARNING:tensorflow:From /usr/local/lib/python3.6/dist-packages/keras/backend/tensorflow_backend.py:541: The name tf.placeholder is deprecated. Please use tf.compat.v1.placeholder instead.\n",
            "\n",
            "WARNING:tensorflow:From /usr/local/lib/python3.6/dist-packages/keras/backend/tensorflow_backend.py:4432: The name tf.random_uniform is deprecated. Please use tf.random.uniform instead.\n",
            "\n",
            "WARNING:tensorflow:From /usr/local/lib/python3.6/dist-packages/keras/backend/tensorflow_backend.py:4267: The name tf.nn.max_pool is deprecated. Please use tf.nn.max_pool2d instead.\n",
            "\n",
            "WARNING:tensorflow:From /usr/local/lib/python3.6/dist-packages/keras/backend/tensorflow_backend.py:148: The name tf.placeholder_with_default is deprecated. Please use tf.compat.v1.placeholder_with_default instead.\n",
            "\n",
            "WARNING:tensorflow:From /usr/local/lib/python3.6/dist-packages/keras/backend/tensorflow_backend.py:3733: calling dropout (from tensorflow.python.ops.nn_ops) with keep_prob is deprecated and will be removed in a future version.\n",
            "Instructions for updating:\n",
            "Please use `rate` instead of `keep_prob`. Rate should be set to `rate = 1 - keep_prob`.\n",
            "WARNING:tensorflow:From /usr/local/lib/python3.6/dist-packages/keras/optimizers.py:793: The name tf.train.Optimizer is deprecated. Please use tf.compat.v1.train.Optimizer instead.\n",
            "\n",
            "WARNING:tensorflow:From /usr/local/lib/python3.6/dist-packages/keras/backend/tensorflow_backend.py:3576: The name tf.log is deprecated. Please use tf.math.log instead.\n",
            "\n",
            "Model: \"sequential_1\"\n",
            "_________________________________________________________________\n",
            "Layer (type)                 Output Shape              Param #   \n",
            "=================================================================\n",
            "conv2d_1 (Conv2D)            (None, 28, 28, 6)         60        \n",
            "_________________________________________________________________\n",
            "conv2d_2 (Conv2D)            (None, 26, 26, 24)        1320      \n",
            "_________________________________________________________________\n",
            "conv2d_3 (Conv2D)            (None, 26, 26, 12)        300       \n",
            "_________________________________________________________________\n",
            "max_pooling2d_1 (MaxPooling2 (None, 13, 13, 12)        0         \n",
            "_________________________________________________________________\n",
            "dropout_1 (Dropout)          (None, 13, 13, 12)        0         \n",
            "_________________________________________________________________\n",
            "conv2d_4 (Conv2D)            (None, 13, 13, 28)        3052      \n",
            "_________________________________________________________________\n",
            "max_pooling2d_2 (MaxPooling2 (None, 6, 6, 28)          0         \n",
            "_________________________________________________________________\n",
            "conv2d_5 (Conv2D)            (None, 6, 6, 24)          696       \n",
            "_________________________________________________________________\n",
            "max_pooling2d_3 (MaxPooling2 (None, 3, 3, 24)          0         \n",
            "_________________________________________________________________\n",
            "dropout_2 (Dropout)          (None, 3, 3, 24)          0         \n",
            "_________________________________________________________________\n",
            "flatten_1 (Flatten)          (None, 216)               0         \n",
            "_________________________________________________________________\n",
            "dense_1 (Dense)              (None, 100)               21700     \n",
            "_________________________________________________________________\n",
            "dropout_3 (Dropout)          (None, 100)               0         \n",
            "_________________________________________________________________\n",
            "my_output_node (Dense)       (None, 20)                2020      \n",
            "=================================================================\n",
            "Total params: 29,148\n",
            "Trainable params: 29,148\n",
            "Non-trainable params: 0\n",
            "_________________________________________________________________\n",
            "None\n",
            "WARNING:tensorflow:From /usr/local/lib/python3.6/dist-packages/tensorflow_core/python/ops/math_grad.py:1424: where (from tensorflow.python.ops.array_ops) is deprecated and will be removed in a future version.\n",
            "Instructions for updating:\n",
            "Use tf.where in 2.0, which has the same broadcast rule as np.where\n",
            "WARNING:tensorflow:From /usr/local/lib/python3.6/dist-packages/keras/backend/tensorflow_backend.py:1033: The name tf.assign_add is deprecated. Please use tf.compat.v1.assign_add instead.\n",
            "\n",
            "WARNING:tensorflow:From /usr/local/lib/python3.6/dist-packages/keras/backend/tensorflow_backend.py:1020: The name tf.assign is deprecated. Please use tf.compat.v1.assign instead.\n",
            "\n",
            "WARNING:tensorflow:From /usr/local/lib/python3.6/dist-packages/keras/backend/tensorflow_backend.py:3005: The name tf.Session is deprecated. Please use tf.compat.v1.Session instead.\n",
            "\n",
            "Train on 160000 samples, validate on 40000 samples\n",
            "WARNING:tensorflow:From /usr/local/lib/python3.6/dist-packages/keras/backend/tensorflow_backend.py:190: The name tf.get_default_session is deprecated. Please use tf.compat.v1.get_default_session instead.\n",
            "\n",
            "WARNING:tensorflow:From /usr/local/lib/python3.6/dist-packages/keras/backend/tensorflow_backend.py:197: The name tf.ConfigProto is deprecated. Please use tf.compat.v1.ConfigProto instead.\n",
            "\n",
            "WARNING:tensorflow:From /usr/local/lib/python3.6/dist-packages/keras/backend/tensorflow_backend.py:207: The name tf.global_variables is deprecated. Please use tf.compat.v1.global_variables instead.\n",
            "\n",
            "WARNING:tensorflow:From /usr/local/lib/python3.6/dist-packages/keras/backend/tensorflow_backend.py:216: The name tf.is_variable_initialized is deprecated. Please use tf.compat.v1.is_variable_initialized instead.\n",
            "\n",
            "WARNING:tensorflow:From /usr/local/lib/python3.6/dist-packages/keras/backend/tensorflow_backend.py:223: The name tf.variables_initializer is deprecated. Please use tf.compat.v1.variables_initializer instead.\n",
            "\n",
            "WARNING:tensorflow:From /usr/local/lib/python3.6/dist-packages/keras/callbacks.py:1122: The name tf.summary.merge_all is deprecated. Please use tf.compat.v1.summary.merge_all instead.\n",
            "\n",
            "WARNING:tensorflow:From /usr/local/lib/python3.6/dist-packages/keras/callbacks.py:1125: The name tf.summary.FileWriter is deprecated. Please use tf.compat.v1.summary.FileWriter instead.\n",
            "\n",
            "Epoch 1/60\n",
            "160000/160000 [==============================] - 24s 151us/step - loss: 1.6203 - acc: 0.5120 - val_loss: 0.8797 - val_acc: 0.7507\n",
            "WARNING:tensorflow:From /usr/local/lib/python3.6/dist-packages/keras/callbacks.py:1265: The name tf.Summary is deprecated. Please use tf.compat.v1.Summary instead.\n",
            "\n",
            "Epoch 2/60\n",
            "160000/160000 [==============================] - 20s 125us/step - loss: 0.9244 - acc: 0.7300 - val_loss: 0.6997 - val_acc: 0.8007\n",
            "Epoch 3/60\n",
            "160000/160000 [==============================] - 20s 125us/step - loss: 0.7942 - acc: 0.7672 - val_loss: 0.6013 - val_acc: 0.8301\n",
            "Epoch 4/60\n",
            "160000/160000 [==============================] - 20s 123us/step - loss: 0.7312 - acc: 0.7870 - val_loss: 0.5615 - val_acc: 0.8412\n",
            "Epoch 5/60\n",
            "160000/160000 [==============================] - 20s 124us/step - loss: 0.6939 - acc: 0.7976 - val_loss: 0.5421 - val_acc: 0.8447\n",
            "\n",
            "Epoch 00005: val_acc improved from -inf to 0.84470, saving model to weights.h5\n",
            "Epoch 6/60\n",
            "160000/160000 [==============================] - 20s 124us/step - loss: 0.6673 - acc: 0.8067 - val_loss: 0.5198 - val_acc: 0.8527\n",
            "Epoch 7/60\n",
            "160000/160000 [==============================] - 20s 124us/step - loss: 0.6492 - acc: 0.8111 - val_loss: 0.5193 - val_acc: 0.8527\n",
            "Epoch 8/60\n",
            "160000/160000 [==============================] - 20s 124us/step - loss: 0.6342 - acc: 0.8156 - val_loss: 0.5001 - val_acc: 0.8584\n",
            "Epoch 9/60\n",
            "160000/160000 [==============================] - 20s 124us/step - loss: 0.6240 - acc: 0.8193 - val_loss: 0.5100 - val_acc: 0.8547\n",
            "Epoch 10/60\n",
            "160000/160000 [==============================] - 20s 124us/step - loss: 0.6154 - acc: 0.8210 - val_loss: 0.4992 - val_acc: 0.8612\n",
            "\n",
            "Epoch 00010: val_acc improved from 0.84470 to 0.86123, saving model to weights.h5\n",
            "Epoch 11/60\n",
            "160000/160000 [==============================] - 20s 123us/step - loss: 0.6020 - acc: 0.8263 - val_loss: 0.4770 - val_acc: 0.8657\n",
            "Epoch 12/60\n",
            "160000/160000 [==============================] - 20s 124us/step - loss: 0.5935 - acc: 0.8286 - val_loss: 0.4750 - val_acc: 0.8651\n",
            "Epoch 13/60\n",
            "160000/160000 [==============================] - 20s 123us/step - loss: 0.5894 - acc: 0.8296 - val_loss: 0.4668 - val_acc: 0.8690\n",
            "Epoch 14/60\n",
            "160000/160000 [==============================] - 20s 124us/step - loss: 0.5849 - acc: 0.8303 - val_loss: 0.4796 - val_acc: 0.8657\n",
            "Epoch 15/60\n",
            "160000/160000 [==============================] - 20s 124us/step - loss: 0.5755 - acc: 0.8327 - val_loss: 0.4565 - val_acc: 0.8708\n",
            "\n",
            "Epoch 00015: val_acc improved from 0.86123 to 0.87082, saving model to weights.h5\n",
            "Epoch 16/60\n",
            "160000/160000 [==============================] - 20s 125us/step - loss: 0.5740 - acc: 0.8338 - val_loss: 0.4628 - val_acc: 0.8696\n",
            "Epoch 17/60\n",
            "160000/160000 [==============================] - 20s 125us/step - loss: 0.5691 - acc: 0.8342 - val_loss: 0.4487 - val_acc: 0.8742\n",
            "Epoch 18/60\n",
            "160000/160000 [==============================] - 20s 125us/step - loss: 0.5655 - acc: 0.8362 - val_loss: 0.4504 - val_acc: 0.8735\n",
            "Epoch 19/60\n",
            "160000/160000 [==============================] - 19s 122us/step - loss: 0.5591 - acc: 0.8368 - val_loss: 0.4475 - val_acc: 0.8743\n",
            "Epoch 20/60\n",
            "160000/160000 [==============================] - 19s 122us/step - loss: 0.5576 - acc: 0.8374 - val_loss: 0.4620 - val_acc: 0.8681\n",
            "\n",
            "Epoch 00020: val_acc did not improve from 0.87082\n",
            "Epoch 21/60\n",
            "160000/160000 [==============================] - 20s 122us/step - loss: 0.5564 - acc: 0.8382 - val_loss: 0.4413 - val_acc: 0.8767\n",
            "Epoch 22/60\n",
            "160000/160000 [==============================] - 19s 121us/step - loss: 0.5489 - acc: 0.8398 - val_loss: 0.4394 - val_acc: 0.8774\n",
            "Epoch 23/60\n",
            "160000/160000 [==============================] - 19s 121us/step - loss: 0.5501 - acc: 0.8395 - val_loss: 0.4523 - val_acc: 0.8721\n",
            "Epoch 24/60\n",
            "160000/160000 [==============================] - 19s 121us/step - loss: 0.5471 - acc: 0.8413 - val_loss: 0.4355 - val_acc: 0.8777\n",
            "Epoch 25/60\n",
            "160000/160000 [==============================] - 20s 123us/step - loss: 0.5441 - acc: 0.8423 - val_loss: 0.4382 - val_acc: 0.8764\n",
            "\n",
            "Epoch 00025: val_acc improved from 0.87082 to 0.87640, saving model to weights.h5\n",
            "Epoch 26/60\n",
            "160000/160000 [==============================] - 20s 123us/step - loss: 0.5439 - acc: 0.8420 - val_loss: 0.4327 - val_acc: 0.8778\n",
            "Epoch 27/60\n",
            "160000/160000 [==============================] - 20s 123us/step - loss: 0.5424 - acc: 0.8421 - val_loss: 0.4482 - val_acc: 0.8721\n",
            "Epoch 28/60\n",
            "160000/160000 [==============================] - 19s 121us/step - loss: 0.5399 - acc: 0.8433 - val_loss: 0.4334 - val_acc: 0.8801\n",
            "Epoch 29/60\n",
            "160000/160000 [==============================] - 20s 123us/step - loss: 0.5376 - acc: 0.8436 - val_loss: 0.4270 - val_acc: 0.8802\n",
            "Epoch 30/60\n",
            "160000/160000 [==============================] - 20s 123us/step - loss: 0.5347 - acc: 0.8448 - val_loss: 0.4322 - val_acc: 0.8780\n",
            "\n",
            "Epoch 00030: val_acc improved from 0.87640 to 0.87797, saving model to weights.h5\n",
            "Epoch 31/60\n",
            "160000/160000 [==============================] - 20s 122us/step - loss: 0.5347 - acc: 0.8446 - val_loss: 0.4375 - val_acc: 0.8770\n",
            "Epoch 32/60\n",
            "160000/160000 [==============================] - 20s 123us/step - loss: 0.5343 - acc: 0.8452 - val_loss: 0.4282 - val_acc: 0.8804\n",
            "Epoch 33/60\n",
            "160000/160000 [==============================] - 20s 122us/step - loss: 0.5329 - acc: 0.8447 - val_loss: 0.4236 - val_acc: 0.8810\n",
            "Epoch 34/60\n",
            "160000/160000 [==============================] - 20s 124us/step - loss: 0.5296 - acc: 0.8458 - val_loss: 0.4319 - val_acc: 0.8791\n",
            "Epoch 35/60\n",
            "160000/160000 [==============================] - 20s 122us/step - loss: 0.5251 - acc: 0.8473 - val_loss: 0.4249 - val_acc: 0.8800\n",
            "\n",
            "Epoch 00035: val_acc improved from 0.87797 to 0.88005, saving model to weights.h5\n",
            "Epoch 36/60\n",
            "160000/160000 [==============================] - 20s 123us/step - loss: 0.5241 - acc: 0.8480 - val_loss: 0.4220 - val_acc: 0.8823\n",
            "Epoch 37/60\n",
            "160000/160000 [==============================] - 20s 123us/step - loss: 0.5256 - acc: 0.8468 - val_loss: 0.4295 - val_acc: 0.8803\n",
            "Epoch 38/60\n",
            "160000/160000 [==============================] - 19s 121us/step - loss: 0.5231 - acc: 0.8464 - val_loss: 0.4353 - val_acc: 0.8765\n",
            "Epoch 39/60\n",
            "160000/160000 [==============================] - 20s 122us/step - loss: 0.5215 - acc: 0.8491 - val_loss: 0.4264 - val_acc: 0.8803\n",
            "Epoch 40/60\n",
            "160000/160000 [==============================] - 20s 122us/step - loss: 0.5206 - acc: 0.8488 - val_loss: 0.4255 - val_acc: 0.8820\n",
            "\n",
            "Epoch 00040: val_acc improved from 0.88005 to 0.88200, saving model to weights.h5\n",
            "Epoch 41/60\n",
            "160000/160000 [==============================] - 20s 123us/step - loss: 0.5211 - acc: 0.8491 - val_loss: 0.4312 - val_acc: 0.8799\n",
            "Epoch 42/60\n",
            "160000/160000 [==============================] - 20s 123us/step - loss: 0.5169 - acc: 0.8492 - val_loss: 0.4153 - val_acc: 0.8827\n",
            "Epoch 43/60\n",
            "160000/160000 [==============================] - 20s 122us/step - loss: 0.5188 - acc: 0.8490 - val_loss: 0.4183 - val_acc: 0.8823\n",
            "Epoch 44/60\n",
            "160000/160000 [==============================] - 20s 123us/step - loss: 0.5131 - acc: 0.8514 - val_loss: 0.4173 - val_acc: 0.8813\n",
            "Epoch 45/60\n",
            "160000/160000 [==============================] - 20s 122us/step - loss: 0.5162 - acc: 0.8498 - val_loss: 0.4270 - val_acc: 0.8817\n",
            "\n",
            "Epoch 00045: val_acc did not improve from 0.88200\n",
            "Epoch 46/60\n",
            "160000/160000 [==============================] - 20s 122us/step - loss: 0.5163 - acc: 0.8499 - val_loss: 0.4252 - val_acc: 0.8795\n",
            "Epoch 47/60\n",
            "160000/160000 [==============================] - 20s 123us/step - loss: 0.5136 - acc: 0.8511 - val_loss: 0.4116 - val_acc: 0.8840\n",
            "Epoch 48/60\n",
            "160000/160000 [==============================] - 20s 122us/step - loss: 0.5139 - acc: 0.8500 - val_loss: 0.4124 - val_acc: 0.8841\n",
            "Epoch 49/60\n",
            "160000/160000 [==============================] - 20s 122us/step - loss: 0.5114 - acc: 0.8521 - val_loss: 0.4104 - val_acc: 0.8843\n",
            "Epoch 50/60\n",
            "160000/160000 [==============================] - 20s 122us/step - loss: 0.5117 - acc: 0.8520 - val_loss: 0.4169 - val_acc: 0.8829\n",
            "\n",
            "Epoch 00050: val_acc improved from 0.88200 to 0.88292, saving model to weights.h5\n",
            "Epoch 51/60\n",
            "160000/160000 [==============================] - 20s 122us/step - loss: 0.5081 - acc: 0.8527 - val_loss: 0.4116 - val_acc: 0.8844\n",
            "Epoch 52/60\n",
            "160000/160000 [==============================] - 19s 122us/step - loss: 0.5121 - acc: 0.8513 - val_loss: 0.4198 - val_acc: 0.8813\n",
            "Epoch 53/60\n",
            "160000/160000 [==============================] - 19s 120us/step - loss: 0.5079 - acc: 0.8523 - val_loss: 0.4168 - val_acc: 0.8834\n",
            "Epoch 54/60\n",
            "160000/160000 [==============================] - 20s 122us/step - loss: 0.5087 - acc: 0.8526 - val_loss: 0.4102 - val_acc: 0.8846\n",
            "Epoch 55/60\n",
            "160000/160000 [==============================] - 20s 122us/step - loss: 0.5078 - acc: 0.8532 - val_loss: 0.4112 - val_acc: 0.8831\n",
            "\n",
            "Epoch 00055: val_acc improved from 0.88292 to 0.88305, saving model to weights.h5\n",
            "Epoch 56/60\n",
            "160000/160000 [==============================] - 20s 122us/step - loss: 0.5058 - acc: 0.8527 - val_loss: 0.4183 - val_acc: 0.8827\n",
            "Epoch 57/60\n",
            "160000/160000 [==============================] - 20s 122us/step - loss: 0.5078 - acc: 0.8521 - val_loss: 0.4135 - val_acc: 0.8834\n",
            "Epoch 58/60\n",
            "160000/160000 [==============================] - 19s 122us/step - loss: 0.5054 - acc: 0.8532 - val_loss: 0.4209 - val_acc: 0.8821\n",
            "Epoch 59/60\n",
            "160000/160000 [==============================] - 20s 122us/step - loss: 0.5075 - acc: 0.8522 - val_loss: 0.4134 - val_acc: 0.8844\n",
            "Epoch 60/60\n",
            "160000/160000 [==============================] - 20s 122us/step - loss: 0.5048 - acc: 0.8535 - val_loss: 0.4144 - val_acc: 0.8852\n",
            "\n",
            "Epoch 00060: val_acc improved from 0.88305 to 0.88520, saving model to weights.h5\n",
            "dict_keys(['val_loss', 'val_acc', 'loss', 'acc'])\n"
          ],
          "name": "stdout"
        },
        {
          "output_type": "execute_result",
          "data": {
            "text/plain": [
              "0.8852"
            ]
          },
          "metadata": {
            "tags": []
          },
          "execution_count": 10
        },
        {
          "output_type": "display_data",
          "data": {
            "image/png": "[encoded data removed]",
            "text/plain": [
              "<Figure size 720x720 with 1 Axes>"
            ]
          },
          "metadata": {
            "tags": []
          }
        }
      ]
    },
    {
      "cell_type": "markdown",
      "metadata": {
        "id": "7qKcANxqtwNv",
        "colab_type": "text"
      },
      "source": [
        "## Run predictions"
      ]
    },
    {
      "cell_type": "code",
      "metadata": {
        "colab_type": "code",
        "id": "W3CMqZOQtvvb",
        "colab": {}
      },
      "source": [
        "x_train, y_train, x_test, y_test, class_names = load_data('data')\n",
        "x_test = x_test.reshape(x_test.shape[0], 28, 28, 1).astype('float32')"
      ],
      "execution_count": 0,
      "outputs": []
    },
    {
      "cell_type": "code",
      "metadata": {
        "colab_type": "code",
        "outputId": "2349f546-e980-4902-e015-8cc2291c225c",
        "id": "XnKVLjXRtvu9",
        "colab": {
          "base_uri": "https://localhost:8080/",
          "height": 300
        }
      },
      "source": [
        "image = x_test[[3]]\n",
        "\n",
        "plt.imshow(image.reshape(28,28), cmap='gray')\n",
        "predictions = global_model.predict(image)\n",
        "\n",
        "print(predictions)\n",
        "top_class = np.argmax(predictions)\n",
        "print(top_class)"
      ],
      "execution_count": 0,
      "outputs": [
        {
          "output_type": "stream",
          "text": [
            "[[0. 0. 0. 0. 0. 0. 0. 0. 1. 0. 0. 0. 0. 0. 0. 0. 0. 0. 0. 0.]]\n",
            "8\n"
          ],
          "name": "stdout"
        },
        {
          "output_type": "display_data",
          "data": {
            "image/png": "[encoded data removed]",
            "text/plain": [
              "<Figure size 432x288 with 1 Axes>"
            ]
          },
          "metadata": {
            "tags": []
          }
        }
      ]
    }
  ]
}